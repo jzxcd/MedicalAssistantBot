{
 "cells": [
  {
   "cell_type": "code",
   "execution_count": 1,
   "id": "941da594",
   "metadata": {},
   "outputs": [
    {
     "name": "stdout",
     "output_type": "stream",
     "text": [
      "🦥 Unsloth: Will patch your computer to enable 2x faster free finetuning.\n",
      "🦥 Unsloth Zoo will now patch everything to make training faster!\n"
     ]
    }
   ],
   "source": [
    "from unsloth import FastLanguageModel\n",
    "from src.llm_helper import invoke_llm, max_seq_length\n",
    "import pandas as pd\n",
    "import numpy as np\n",
    "from tqdm import tqdm\n",
    "from src.helper import rouge_lsum"
   ]
  },
  {
   "cell_type": "code",
   "execution_count": 2,
   "id": "a409f29f",
   "metadata": {},
   "outputs": [],
   "source": [
    "from datasets import load_dataset\n",
    "\n",
    "dataset = load_dataset(\n",
    "    'json', \n",
    "    data_files={\n",
    "        'test': 'data/test.jsonl'\n",
    "    }\n",
    ")"
   ]
  },
  {
   "cell_type": "code",
   "execution_count": 3,
   "id": "269aa12a",
   "metadata": {},
   "outputs": [
    {
     "name": "stdout",
     "output_type": "stream",
     "text": [
      "==((====))==  Unsloth 2025.8.9: Fast Gemma3 patching. Transformers: 4.55.4.\n",
      "   \\\\   /|    NVIDIA GeForce RTX 4090. Num GPUs = 1. Max memory: 23.988 GB. Platform: Linux.\n",
      "O^O/ \\_/ \\    Torch: 2.8.0+cu128. CUDA: 8.9. CUDA Toolkit: 12.8. Triton: 3.4.0\n",
      "\\        /    Bfloat16 = TRUE. FA [Xformers = 0.0.32.post2. FA2 = False]\n",
      " \"-____-\"     Free license: http://github.com/unslothai/unsloth\n",
      "Unsloth: Fast downloading is enabled - ignore downloading bars which are red colored!\n"
     ]
    }
   ],
   "source": [
    "ft_model, ft_tokenizer = FastLanguageModel.from_pretrained(\n",
    "    model_name = \"saved_models/full_model2\",\n",
    "    max_seq_length = max_seq_length,\n",
    "    load_in_4bit = False,\n",
    "    load_in_8bit = True\n",
    ")"
   ]
  },
  {
   "cell_type": "code",
   "execution_count": 4,
   "id": "01d66022",
   "metadata": {},
   "outputs": [
    {
     "name": "stdout",
     "output_type": "stream",
     "text": [
      "==((====))==  Unsloth 2025.8.9: Fast Gemma3 patching. Transformers: 4.55.4.\n",
      "   \\\\   /|    NVIDIA GeForce RTX 4090. Num GPUs = 1. Max memory: 23.988 GB. Platform: Linux.\n",
      "O^O/ \\_/ \\    Torch: 2.8.0+cu128. CUDA: 8.9. CUDA Toolkit: 12.8. Triton: 3.4.0\n",
      "\\        /    Bfloat16 = TRUE. FA [Xformers = 0.0.32.post2. FA2 = False]\n",
      " \"-____-\"     Free license: http://github.com/unslothai/unsloth\n",
      "Unsloth: Fast downloading is enabled - ignore downloading bars which are red colored!\n"
     ]
    }
   ],
   "source": [
    "base_model, base_tokenizer = FastLanguageModel.from_pretrained(\n",
    "    model_name = \"unsloth/gemma-3-270m-it\",\n",
    "    max_seq_length = max_seq_length,\n",
    "    load_in_4bit = False,\n",
    "    load_in_8bit = True\n",
    ")"
   ]
  },
  {
   "cell_type": "code",
   "execution_count": 12,
   "id": "ebff0aee",
   "metadata": {},
   "outputs": [],
   "source": [
    "def inference(dataset, model, tokenizer):\n",
    "    res = []\n",
    "    for example in tqdm(dataset['test']):\n",
    "        answer = invoke_llm(example['instruction'], model, tokenizer)\n",
    "        S = rouge_lsum(answer, example['output'])\n",
    "        res.append([S.precision, S.recall, S.fmeasure, example['instruction'], example['output'], answer])\n",
    "    return res\n"
   ]
  },
  {
   "cell_type": "code",
   "execution_count": null,
   "id": "57baeb86",
   "metadata": {},
   "outputs": [
    {
     "name": "stderr",
     "output_type": "stream",
     "text": [
      "100%|██████████| 1000/1000 [13:40<00:00,  1.22it/s]\n"
     ]
    }
   ],
   "source": [
    "base_test_res = inference(dataset, base_model, base_tokenizer)"
   ]
  },
  {
   "cell_type": "code",
   "execution_count": 4,
   "id": "0ba2c3a8",
   "metadata": {},
   "outputs": [
    {
     "name": "stderr",
     "output_type": "stream",
     "text": [
      "100%|██████████| 1000/1000 [2:16:26<00:00,  8.19s/it] \n"
     ]
    }
   ],
   "source": [
    "ft_test_res = inference(dataset, ft_model, ft_tokenizer)"
   ]
  },
  {
   "cell_type": "code",
   "execution_count": 12,
   "id": "e62ebcfc",
   "metadata": {},
   "outputs": [],
   "source": [
    "def eval(ft_res, base_res, score_idx):\n",
    "    eval_df = pd.DataFrame(columns = [\n",
    "        'ft_precision', 'ft_recall', 'ft_fscore', \n",
    "        'base_precision', 'base_recall', 'base_fscore',\n",
    "        'query', 'answer', \n",
    "        'pred_ft', 'pred_base'\n",
    "    ])\n",
    "    for i in range(len(ft_res)):\n",
    "        ft_precision, ft_recall, ft_fscore = ft_res[i][0], ft_res[i][1], ft_res[i][2]\n",
    "        base_precision, base_recall, base_fscore = base_res[i][0], base_res[i][1], base_res[i][2]\n",
    "        base_score = base_res[i][score_idx]\n",
    "        query, answer = ft_res[i][3], ft_res[i][4]\n",
    "        pred_ft = ft_res[i][-1]\n",
    "        pred_base = base_res[i][-1]\n",
    "        eval_df.loc[i] = [\n",
    "            ft_precision, ft_recall, ft_fscore, \n",
    "            base_precision, base_recall, base_fscore, \n",
    "            query, answer, \n",
    "            pred_ft, pred_base\n",
    "        ]\n",
    "    return eval_df\n",
    "    \n"
   ]
  },
  {
   "cell_type": "code",
   "execution_count": 13,
   "id": "1c80f408",
   "metadata": {},
   "outputs": [],
   "source": [
    "eval_df = eval(ft_test_res, base_test_res, score_idx=0)\n",
    "eval_df.to_csv('evaluation/eval_df.csv', index=False)"
   ]
  },
  {
   "cell_type": "code",
   "execution_count": 15,
   "id": "9c121ccf",
   "metadata": {},
   "outputs": [
    {
     "data": {
      "text/html": [
       "<div>\n",
       "<style scoped>\n",
       "    .dataframe tbody tr th:only-of-type {\n",
       "        vertical-align: middle;\n",
       "    }\n",
       "\n",
       "    .dataframe tbody tr th {\n",
       "        vertical-align: top;\n",
       "    }\n",
       "\n",
       "    .dataframe thead th {\n",
       "        text-align: right;\n",
       "    }\n",
       "</style>\n",
       "<table border=\"1\" class=\"dataframe\">\n",
       "  <thead>\n",
       "    <tr style=\"text-align: right;\">\n",
       "      <th></th>\n",
       "      <th>ft_precision</th>\n",
       "      <th>ft_recall</th>\n",
       "      <th>ft_fscore</th>\n",
       "      <th>base_precision</th>\n",
       "      <th>base_recall</th>\n",
       "      <th>base_fscore</th>\n",
       "      <th>query</th>\n",
       "      <th>answer</th>\n",
       "      <th>pred_ft</th>\n",
       "      <th>pred_base</th>\n",
       "    </tr>\n",
       "  </thead>\n",
       "  <tbody>\n",
       "    <tr>\n",
       "      <th>0</th>\n",
       "      <td>0.212121</td>\n",
       "      <td>0.107143</td>\n",
       "      <td>0.142373</td>\n",
       "      <td>0.216216</td>\n",
       "      <td>0.040816</td>\n",
       "      <td>0.068670</td>\n",
       "      <td>How to diagnose Problems with Smell ?</td>\n",
       "      <td>Scientists have developed tests to determine t...</td>\n",
       "      <td>A doctor or nurse will usually look at the sme...</td>\n",
       "      <td>Okay, I'm ready to provide information about d...</td>\n",
       "    </tr>\n",
       "    <tr>\n",
       "      <th>1</th>\n",
       "      <td>0.026810</td>\n",
       "      <td>0.212766</td>\n",
       "      <td>0.047619</td>\n",
       "      <td>0.096774</td>\n",
       "      <td>0.063830</td>\n",
       "      <td>0.076923</td>\n",
       "      <td>What are the treatments for aromatase deficien...</td>\n",
       "      <td>These resources address the diagnosis or manag...</td>\n",
       "      <td>There is currently no cure for aromatase defic...</td>\n",
       "      <td>Okay, I'm ready. Please tell me what treatment...</td>\n",
       "    </tr>\n",
       "    <tr>\n",
       "      <th>2</th>\n",
       "      <td>0.009050</td>\n",
       "      <td>0.042553</td>\n",
       "      <td>0.014925</td>\n",
       "      <td>0.000000</td>\n",
       "      <td>0.000000</td>\n",
       "      <td>0.000000</td>\n",
       "      <td>How to prevent Omsk Hemorrhagic Fever (OHF) ?</td>\n",
       "      <td>There is no vaccine currently available for OH...</td>\n",
       "      <td>The best way to prevent Omsk Hemorrhagic Fever...</td>\n",
       "      <td>NaN</td>\n",
       "    </tr>\n",
       "    <tr>\n",
       "      <th>3</th>\n",
       "      <td>0.500000</td>\n",
       "      <td>0.043668</td>\n",
       "      <td>0.080321</td>\n",
       "      <td>0.333333</td>\n",
       "      <td>0.024017</td>\n",
       "      <td>0.044807</td>\n",
       "      <td>What are the stages of Adult Acute Lymphoblast...</td>\n",
       "      <td>Key Points\\n                    - Once adult A...</td>\n",
       "      <td>- The diagnosis of adult acute lymphoblastic l...</td>\n",
       "      <td>Okay, I'm ready to provide you with the inform...</td>\n",
       "    </tr>\n",
       "    <tr>\n",
       "      <th>4</th>\n",
       "      <td>0.356557</td>\n",
       "      <td>0.348000</td>\n",
       "      <td>0.352227</td>\n",
       "      <td>1.000000</td>\n",
       "      <td>0.020000</td>\n",
       "      <td>0.039216</td>\n",
       "      <td>What are the symptoms of Follicle-stimulating ...</td>\n",
       "      <td>What are the signs and symptoms of Follicle-st...</td>\n",
       "      <td>What are the signs and symptoms of Follicle-st...</td>\n",
       "      <td>Follicle-stimulating hormone deficiency, isola...</td>\n",
       "    </tr>\n",
       "  </tbody>\n",
       "</table>\n",
       "</div>"
      ],
      "text/plain": [
       "   ft_precision  ft_recall  ft_fscore  base_precision  base_recall  \\\n",
       "0      0.212121   0.107143   0.142373        0.216216     0.040816   \n",
       "1      0.026810   0.212766   0.047619        0.096774     0.063830   \n",
       "2      0.009050   0.042553   0.014925        0.000000     0.000000   \n",
       "3      0.500000   0.043668   0.080321        0.333333     0.024017   \n",
       "4      0.356557   0.348000   0.352227        1.000000     0.020000   \n",
       "\n",
       "   base_fscore                                              query  \\\n",
       "0     0.068670              How to diagnose Problems with Smell ?   \n",
       "1     0.076923  What are the treatments for aromatase deficien...   \n",
       "2     0.000000      How to prevent Omsk Hemorrhagic Fever (OHF) ?   \n",
       "3     0.044807  What are the stages of Adult Acute Lymphoblast...   \n",
       "4     0.039216  What are the symptoms of Follicle-stimulating ...   \n",
       "\n",
       "                                              answer  \\\n",
       "0  Scientists have developed tests to determine t...   \n",
       "1  These resources address the diagnosis or manag...   \n",
       "2  There is no vaccine currently available for OH...   \n",
       "3  Key Points\\n                    - Once adult A...   \n",
       "4  What are the signs and symptoms of Follicle-st...   \n",
       "\n",
       "                                             pred_ft  \\\n",
       "0  A doctor or nurse will usually look at the sme...   \n",
       "1  There is currently no cure for aromatase defic...   \n",
       "2  The best way to prevent Omsk Hemorrhagic Fever...   \n",
       "3  - The diagnosis of adult acute lymphoblastic l...   \n",
       "4  What are the signs and symptoms of Follicle-st...   \n",
       "\n",
       "                                           pred_base  \n",
       "0  Okay, I'm ready to provide information about d...  \n",
       "1  Okay, I'm ready. Please tell me what treatment...  \n",
       "2                                                NaN  \n",
       "3  Okay, I'm ready to provide you with the inform...  \n",
       "4  Follicle-stimulating hormone deficiency, isola...  "
      ]
     },
     "execution_count": 15,
     "metadata": {},
     "output_type": "execute_result"
    }
   ],
   "source": [
    "eval_df.head()"
   ]
  },
  {
   "cell_type": "code",
   "execution_count": 16,
   "id": "4cca63a0",
   "metadata": {},
   "outputs": [],
   "source": [
    "import seaborn as sns\n",
    "import matplotlib.pyplot as plt"
   ]
  },
  {
   "cell_type": "code",
   "execution_count": 23,
   "id": "81a40108",
   "metadata": {},
   "outputs": [
    {
     "data": {
      "image/png": "[encoded data removed]",
      "text/plain": [
       "<Figure size 640x480 with 1 Axes>"
      ]
     },
     "metadata": {},
     "output_type": "display_data"
    }
   ],
   "source": [
    "bins = np.linspace(0, 1.0, 51)\n",
    "sns.histplot(eval_df['base_fscore'], bins=bins, label='Base')\n",
    "sns.histplot(eval_df['ft_fscore'], bins=bins, label='FT')\n",
    "plt.title('fscore distribution')\n",
    "plt.legend()\n",
    "plt.show()\n"
   ]
  },
  {
   "cell_type": "code",
   "execution_count": null,
   "id": "f198b0f0",
   "metadata": {},
   "outputs": [
    {
     "data": {
      "image/png": "[encoded data removed]",
      "text/plain": [
       "<Figure size 640x480 with 1 Axes>"
      ]
     },
     "metadata": {},
     "output_type": "display_data"
    }
   ],
   "source": [
    "bins = np.linspace(0, 1.0, 51)\n",
    "sns.histplot(eval_df['base_precision'], bins=bins, label='Base')\n",
    "sns.histplot(eval_df['ft_precision'], bins=bins, label='FT')\n",
    "plt.title('precision distribution')\n",
    "plt.legend()\n",
    "plt.show()\n"
   ]
  },
  {
   "cell_type": "code",
   "execution_count": 26,
   "id": "541c56d0",
   "metadata": {},
   "outputs": [
    {
     "data": {
      "image/png": "[encoded data removed]",
      "text/plain": [
       "<Figure size 640x480 with 1 Axes>"
      ]
     },
     "metadata": {},
     "output_type": "display_data"
    }
   ],
   "source": [
    "bins = np.linspace(0, 1.0, 51)\n",
    "sns.histplot(eval_df['base_recall'], bins=bins, label='Base')\n",
    "sns.histplot(eval_df['ft_recall'], bins=bins, label='FT')\n",
    "plt.title('recall distribution')\n",
    "plt.legend()\n",
    "plt.show()\n"
   ]
  },
  {
   "cell_type": "code",
   "execution_count": null,
   "id": "c89bbd1b",
   "metadata": {},
   "outputs": [],
   "source": []
  }
 ],
 "metadata": {
  "kernelspec": {
   "display_name": ".venv",
   "language": "python",
   "name": "python3"
  },
  "language_info": {
   "codemirror_mode": {
    "name": "ipython",
    "version": 3
   },
   "file_extension": ".py",
   "mimetype": "text/x-python",
   "name": "python",
   "nbconvert_exporter": "python",
   "pygments_lexer": "ipython3",
   "version": "3.10.12"
  }
 },
 "nbformat": 4,
 "nbformat_minor": 5
}
