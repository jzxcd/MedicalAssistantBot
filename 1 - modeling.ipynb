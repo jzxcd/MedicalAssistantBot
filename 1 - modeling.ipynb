{
 "cells": [
  {
   "cell_type": "markdown",
   "id": "d0a9614e",
   "metadata": {},
   "source": [
    "# LLM fine tuning"
   ]
  },
  {
   "cell_type": "markdown",
   "id": "00a6ee9b",
   "metadata": {},
   "source": [
    "### train, val, test split"
   ]
  },
  {
   "cell_type": "code",
   "execution_count": 1,
   "id": "19e32fd6",
   "metadata": {},
   "outputs": [],
   "source": [
    "%load_ext autoreload\n",
    "%autoreload 2"
   ]
  },
  {
   "cell_type": "code",
   "execution_count": 2,
   "id": "da7376c4",
   "metadata": {},
   "outputs": [
    {
     "name": "stdout",
     "output_type": "stream",
     "text": [
      "🦥 Unsloth: Will patch your computer to enable 2x faster free finetuning.\n",
      "🦥 Unsloth Zoo will now patch everything to make training faster!\n"
     ]
    }
   ],
   "source": [
    "from unsloth import FastModel\n",
    "import pandas as pd\n",
    "import numpy as np\n",
    "from tqdm import tqdm \n",
    "from src.helper import save_jsonl, rouge_lsum"
   ]
  },
  {
   "cell_type": "code",
   "execution_count": 3,
   "id": "1eae8160",
   "metadata": {},
   "outputs": [],
   "source": [
    "df = pd.read_csv('data/clean_df')"
   ]
  },
  {
   "cell_type": "code",
   "execution_count": 4,
   "id": "3167892c",
   "metadata": {},
   "outputs": [
    {
     "data": {
      "text/plain": [
       "(13989, 1000, 1000)"
      ]
     },
     "execution_count": 4,
     "metadata": {},
     "output_type": "execute_result"
    }
   ],
   "source": [
    "# train test split to have at least 1000 on val and test\n",
    "n = len(df)\n",
    "indices = np.random.permutation(n)\n",
    "\n",
    "train_end = n - 2000\n",
    "val_end = n - 1000\n",
    "\n",
    "train_idx = indices[:train_end]\n",
    "val_idx = indices[train_end:val_end]\n",
    "test_idx = indices[val_end:]\n",
    "\n",
    "df_train = df.iloc[train_idx].reset_index(drop=True)\n",
    "df_val = df.iloc[val_idx].reset_index(drop=True)\n",
    "df_test = df.iloc[test_idx].reset_index(drop=True)\n",
    "\n",
    "save_jsonl(df_train, 'data/train.jsonl')\n",
    "save_jsonl(df_val, 'data/val.jsonl')\n",
    "save_jsonl(df_test, 'data/test.jsonl')\n",
    "len(df_train), len(df_val), len(df_test)"
   ]
  },
  {
   "cell_type": "code",
   "execution_count": 5,
   "id": "cb8da50b",
   "metadata": {},
   "outputs": [
    {
     "data": {
      "application/vnd.jupyter.widget-view+json": {
       "model_id": "e3eb457e171b4f40bbbd1f9f49e1e11c",
       "version_major": 2,
       "version_minor": 0
      },
      "text/plain": [
       "Generating train split: 0 examples [00:00, ? examples/s]"
      ]
     },
     "metadata": {},
     "output_type": "display_data"
    },
    {
     "data": {
      "application/vnd.jupyter.widget-view+json": {
       "model_id": "eb9cdf07ddcc4a1994af18c4b6040123",
       "version_major": 2,
       "version_minor": 0
      },
      "text/plain": [
       "Generating val split: 0 examples [00:00, ? examples/s]"
      ]
     },
     "metadata": {},
     "output_type": "display_data"
    }
   ],
   "source": [
    "from datasets import load_dataset\n",
    "\n",
    "dataset = load_dataset(\n",
    "    'json', \n",
    "    data_files={\n",
    "        'train': 'data/train.jsonl',\n",
    "        'val': 'data/val.jsonl',\n",
    "        # 'test': 'data/test.jsonl'\n",
    "    }\n",
    ")\n"
   ]
  },
  {
   "cell_type": "markdown",
   "id": "4d88eaf2",
   "metadata": {},
   "source": [
    "# fine tune \n",
    "- gemma3:270m-it"
   ]
  },
  {
   "cell_type": "code",
   "execution_count": 6,
   "id": "771187da",
   "metadata": {},
   "outputs": [
    {
     "name": "stdout",
     "output_type": "stream",
     "text": [
      "Unsloth: You selected full finetuning support, but 4bit / 8bit is enabled - disabling LoRA / QLoRA.\n",
      "==((====))==  Unsloth 2025.8.9: Fast Gemma3 patching. Transformers: 4.55.4.\n",
      "   \\\\   /|    NVIDIA GeForce RTX 4090. Num GPUs = 1. Max memory: 23.988 GB. Platform: Linux.\n",
      "O^O/ \\_/ \\    Torch: 2.8.0+cu128. CUDA: 8.9. CUDA Toolkit: 12.8. Triton: 3.4.0\n",
      "\\        /    Bfloat16 = TRUE. FA [Xformers = 0.0.32.post2. FA2 = False]\n",
      " \"-____-\"     Free license: http://github.com/unslothai/unsloth\n",
      "Unsloth: Fast downloading is enabled - ignore downloading bars which are red colored!\n",
      "Unsloth: Using bfloat16 full finetuning which cuts memory usage by 50%.\n"
     ]
    }
   ],
   "source": [
    "from src.llm_helper import max_seq_length\n",
    "\n",
    "model, tokenizer = FastModel.from_pretrained(\n",
    "    model_name = \"unsloth/gemma-3-270m-it\",\n",
    "    max_seq_length = max_seq_length,\n",
    "    load_in_4bit = False,\n",
    "    load_in_8bit = True, \n",
    "    full_finetuning = True,    \n",
    ")\n",
    "\n",
    "# model = FastModel.get_peft_model(\n",
    "#     model,\n",
    "#     r = 32, \n",
    "#     target_modules = [\n",
    "#         \"q_proj\", \"k_proj\", \"v_proj\", \"o_proj\",\n",
    "#         \"gate_proj\", \"up_proj\", \"down_proj\"\n",
    "#     ],\n",
    "#     lora_alpha = 32,\n",
    "#     lora_dropout = 0, \n",
    "#     bias = \"none\",    \n",
    "#     use_gradient_checkpointing = \"unsloth\", \n",
    "#     random_state = 3407,\n",
    "#     use_rslora = False,\n",
    "#     loftq_config = None,\n",
    "# )"
   ]
  },
  {
   "cell_type": "code",
   "execution_count": 7,
   "id": "76eaeb43",
   "metadata": {},
   "outputs": [],
   "source": [
    "from src.llm_helper import system_prompt\n",
    "from unsloth.chat_templates import get_chat_template\n",
    "\n",
    "tokenizer = get_chat_template(\n",
    "    tokenizer,\n",
    "    chat_template = \"gemma3\",\n",
    ")"
   ]
  },
  {
   "cell_type": "code",
   "execution_count": 8,
   "id": "d5f956fc",
   "metadata": {},
   "outputs": [
    {
     "data": {
      "application/vnd.jupyter.widget-view+json": {
       "model_id": "0050ea9efcc34a43bdcd091443c88aaf",
       "version_major": 2,
       "version_minor": 0
      },
      "text/plain": [
       "Map:   0%|          | 0/13989 [00:00<?, ? examples/s]"
      ]
     },
     "metadata": {},
     "output_type": "display_data"
    },
    {
     "data": {
      "application/vnd.jupyter.widget-view+json": {
       "model_id": "921572f97a0c4ebbb2a78922a852778c",
       "version_major": 2,
       "version_minor": 0
      },
      "text/plain": [
       "Map:   0%|          | 0/1000 [00:00<?, ? examples/s]"
      ]
     },
     "metadata": {},
     "output_type": "display_data"
    },
    {
     "data": {
      "text/plain": [
       "[[{'content': 'You are an expert specialized in medicine. Your role is to provide precise, factual, and immediate information without any superfluous language, greetings, or acknowledgments.',\n",
       "   'role': 'system'},\n",
       "  {'content': 'How to diagnose Salivary Gland Cancer ?', 'role': 'user'},\n",
       "  {'content': \"Tests that examine the head, neck, and the inside of the mouth are used to detect (find) and diagnose salivary gland cancer. The following procedures may be used:         -  Physical exam and history : An exam of the body to check general signs of health. The head, neck, mouth, and throat will be checked for signs of disease, such as lumps or anything else that seems unusual. A history of the patient's health habits and past illnesses and treatments will also be taken.    -   MRI (magnetic resonance imaging): A procedure that uses a magnet, radio waves, and a computer to make a series of detailed pictures of areas inside the body. This procedure is also called nuclear magnetic resonance imaging (NMRI).    -   CT scan (CAT scan): A procedure that makes a series of detailed pictures of areas inside the body, taken from different angles. The pictures are made by a computer linked to an x-ray machine. A dye may be injected into a vein or swallowed to help the organs or tissues show up more clearly. This procedure is also called computed tomography, computerized tomography, or computerized axial tomography.     -   PET scan (positron emission tomography scan): A procedure to find malignant tumor cells in the body. A small amount of radioactive glucose (sugar) is injected into a vein. The PET scanner rotates around the body and makes a picture of where glucose is being used in the body. Malignant tumor cells show up brighter in the picture because they are more active and take up more glucose than normal cells do.    -   Endoscopy : A procedure to look at organs and tissues inside the body to check for abnormal areas. For salivary gland cancer, an endoscope is inserted into the mouth to look at the mouth, throat, and larynx. An endoscope is a thin, tube-like instrument with a light and a lens for viewing.     -   Biopsy : The removal of cells or tissues so they can be viewed under a microscope by a pathologist to check for signs of cancer.               -  Fine needle aspiration (FNA) biopsy : The removal of tissue or fluid using a thin needle. An FNA is the most common type of biopsy used for salivary gland cancer.      -  Incisional biopsy : The removal of part of a lump or a sample of tissue that doesnt look normal.      -  Surgery : If cancer cannot be diagnosed from the sample of tissue removed during an FNA biopsy or an incisional biopsy, the mass may be removed and checked for signs of cancer.                 Because salivary gland cancer can be hard to diagnose, patients should ask to have the tissue samples checked by a pathologist who has experience in diagnosing salivary gland cancer.\",\n",
       "   'role': 'assistant'}],\n",
       " [{'content': 'You are an expert specialized in medicine. Your role is to provide precise, factual, and immediate information without any superfluous language, greetings, or acknowledgments.',\n",
       "   'role': 'system'},\n",
       "  {'content': 'what research (or clinical trials) is being done for Neurofibromatosis ?',\n",
       "   'role': 'user'},\n",
       "  {'content': 'The mission of the National Institute of Neurological Disorders and Stroke (NINDS) is to seek fundamental knowledge about the brain and nervous system and to use that knowledge to reduce the burden of neurological disease. NINDS researchers are working to identify signaling pathways in the nervous system, with the hope of eventually developing drugs and techniques to help diagnose and treat NF. Understanding the natural history of tumors in NF and determining possible factors that may regulate their growth patterns is another aim of NIH researchers Ongoing research continues to discover additional genes that appear to play a role in NF-related tumor suppression or growth Continuing research on these genes and their proteins is beginning to reveal how this novel family of growth regulators controls how and where tumors form and grow Researchers also hope to develop new and more effective treatments for neurofibromatosis. Several agents have been tested or are under investigation for NF2, including the monoclonal antibody, bevacizumab, which improves hearing in some individuals with NF2.Because schwannomas are particularly hard to treat tumors, NINDS researchers are developing a new treatment option, which uses a virus to kill tumor cells. Additional NINDS-funded researchers are testing novel radiation and chemotherapy regimens for NF1-related malignant tumors of the peripheral nerves.',\n",
       "   'role': 'assistant'}]]"
      ]
     },
     "execution_count": 8,
     "metadata": {},
     "output_type": "execute_result"
    }
   ],
   "source": [
    "\n",
    "def convert_to_chatml(example):\n",
    "    return {\n",
    "        \"conversations\": [\n",
    "            {\"role\": \"system\", \"content\": system_prompt},\n",
    "            {\"role\": \"user\", \"content\": example[\"instruction\"]},\n",
    "            {\"role\": \"assistant\", \"content\": example[\"output\"]}\n",
    "        ]\n",
    "    }\n",
    "\n",
    "dataset = dataset.map(\n",
    "    convert_to_chatml\n",
    ")\n",
    "\n",
    "dataset['train']['conversations'][:2]"
   ]
  },
  {
   "cell_type": "code",
   "execution_count": 9,
   "id": "96662920",
   "metadata": {},
   "outputs": [
    {
     "data": {
      "application/vnd.jupyter.widget-view+json": {
       "model_id": "abcdd57851f44fb1b2941446d7aa7e01",
       "version_major": 2,
       "version_minor": 0
      },
      "text/plain": [
       "Map:   0%|          | 0/13989 [00:00<?, ? examples/s]"
      ]
     },
     "metadata": {},
     "output_type": "display_data"
    },
    {
     "data": {
      "application/vnd.jupyter.widget-view+json": {
       "model_id": "1eff806c5ba743b888cdd9776e26ffb4",
       "version_major": 2,
       "version_minor": 0
      },
      "text/plain": [
       "Map:   0%|          | 0/1000 [00:00<?, ? examples/s]"
      ]
     },
     "metadata": {},
     "output_type": "display_data"
    },
    {
     "data": {
      "text/plain": [
       "[\"<start_of_turn>user\\nYou are an expert specialized in medicine. Your role is to provide precise, factual, and immediate information without any superfluous language, greetings, or acknowledgments.\\n\\nHow to diagnose Salivary Gland Cancer ?<end_of_turn>\\n<start_of_turn>model\\nTests that examine the head, neck, and the inside of the mouth are used to detect (find) and diagnose salivary gland cancer. The following procedures may be used:         -  Physical exam and history : An exam of the body to check general signs of health. The head, neck, mouth, and throat will be checked for signs of disease, such as lumps or anything else that seems unusual. A history of the patient's health habits and past illnesses and treatments will also be taken.    -   MRI (magnetic resonance imaging): A procedure that uses a magnet, radio waves, and a computer to make a series of detailed pictures of areas inside the body. This procedure is also called nuclear magnetic resonance imaging (NMRI).    -   CT scan (CAT scan): A procedure that makes a series of detailed pictures of areas inside the body, taken from different angles. The pictures are made by a computer linked to an x-ray machine. A dye may be injected into a vein or swallowed to help the organs or tissues show up more clearly. This procedure is also called computed tomography, computerized tomography, or computerized axial tomography.     -   PET scan (positron emission tomography scan): A procedure to find malignant tumor cells in the body. A small amount of radioactive glucose (sugar) is injected into a vein. The PET scanner rotates around the body and makes a picture of where glucose is being used in the body. Malignant tumor cells show up brighter in the picture because they are more active and take up more glucose than normal cells do.    -   Endoscopy : A procedure to look at organs and tissues inside the body to check for abnormal areas. For salivary gland cancer, an endoscope is inserted into the mouth to look at the mouth, throat, and larynx. An endoscope is a thin, tube-like instrument with a light and a lens for viewing.     -   Biopsy : The removal of cells or tissues so they can be viewed under a microscope by a pathologist to check for signs of cancer.               -  Fine needle aspiration (FNA) biopsy : The removal of tissue or fluid using a thin needle. An FNA is the most common type of biopsy used for salivary gland cancer.      -  Incisional biopsy : The removal of part of a lump or a sample of tissue that doesnt look normal.      -  Surgery : If cancer cannot be diagnosed from the sample of tissue removed during an FNA biopsy or an incisional biopsy, the mass may be removed and checked for signs of cancer.                 Because salivary gland cancer can be hard to diagnose, patients should ask to have the tissue samples checked by a pathologist who has experience in diagnosing salivary gland cancer.<end_of_turn>\\n\",\n",
       " '<start_of_turn>user\\nYou are an expert specialized in medicine. Your role is to provide precise, factual, and immediate information without any superfluous language, greetings, or acknowledgments.\\n\\nwhat research (or clinical trials) is being done for Neurofibromatosis ?<end_of_turn>\\n<start_of_turn>model\\nThe mission of the National Institute of Neurological Disorders and Stroke (NINDS) is to seek fundamental knowledge about the brain and nervous system and to use that knowledge to reduce the burden of neurological disease. NINDS researchers are working to identify signaling pathways in the nervous system, with the hope of eventually developing drugs and techniques to help diagnose and treat NF. Understanding the natural history of tumors in NF and determining possible factors that may regulate their growth patterns is another aim of NIH researchers Ongoing research continues to discover additional genes that appear to play a role in NF-related tumor suppression or growth Continuing research on these genes and their proteins is beginning to reveal how this novel family of growth regulators controls how and where tumors form and grow Researchers also hope to develop new and more effective treatments for neurofibromatosis. Several agents have been tested or are under investigation for NF2, including the monoclonal antibody, bevacizumab, which improves hearing in some individuals with NF2.Because schwannomas are particularly hard to treat tumors, NINDS researchers are developing a new treatment option, which uses a virus to kill tumor cells. Additional NINDS-funded researchers are testing novel radiation and chemotherapy regimens for NF1-related malignant tumors of the peripheral nerves.<end_of_turn>\\n']"
      ]
     },
     "execution_count": 9,
     "metadata": {},
     "output_type": "execute_result"
    }
   ],
   "source": [
    "\n",
    "def formatting_prompts_func(examples):\n",
    "    \"to apply chat template like <bos> and other terms developed by unsloth\"\n",
    "    convos = examples[\"conversations\"]\n",
    "    texts = [tokenizer.apply_chat_template(convo, tokenize = False, add_generation_prompt = False).removeprefix('<bos>') for convo in convos]\n",
    "    return { \"text\" : texts, }\n",
    "\n",
    "dataset = dataset.map(formatting_prompts_func, batched = True)\n",
    "dataset['train']['text'][:2]"
   ]
  },
  {
   "cell_type": "markdown",
   "id": "22fc6149",
   "metadata": {},
   "source": [
    "### training"
   ]
  },
  {
   "cell_type": "code",
   "execution_count": 11,
   "id": "89cf24ba",
   "metadata": {},
   "outputs": [],
   "source": [
    "from trl import SFTTrainer, SFTConfig\n",
    "\n",
    "trainer = SFTTrainer(\n",
    "    model = model,\n",
    "    tokenizer = tokenizer,\n",
    "    train_dataset = dataset['train'],\n",
    "    eval_dataset = dataset['val'], \n",
    "    args = SFTConfig(\n",
    "        eval_strategy = \"steps\",\n",
    "        do_eval = True,\n",
    "        dataset_text_field = \"text\",\n",
    "        per_device_train_batch_size = 32,\n",
    "        gradient_accumulation_steps = 1,\n",
    "        warmup_steps = 5,\n",
    "        num_train_epochs = 4,\n",
    "        # max_steps = 500,\n",
    "        learning_rate = 1e-5, \n",
    "        logging_steps = 100,\n",
    "        optim = \"adamw_8bit\",\n",
    "        weight_decay = 0.01,\n",
    "        lr_scheduler_type = \"linear\",\n",
    "        seed = 3407,\n",
    "        output_dir=\"outputs\",\n",
    "        report_to = \"none\", \n",
    "        eval_steps=200,\n",
    "    ),\n",
    ")"
   ]
  },
  {
   "cell_type": "code",
   "execution_count": 12,
   "id": "8eb6b499",
   "metadata": {},
   "outputs": [
    {
     "data": {
      "application/vnd.jupyter.widget-view+json": {
       "model_id": "8f1823e4b53d4905b0ef3ae9d8443e28",
       "version_major": 2,
       "version_minor": 0
      },
      "text/plain": [
       "Map (num_proc=20):   0%|          | 0/13989 [00:00<?, ? examples/s]"
      ]
     },
     "metadata": {},
     "output_type": "display_data"
    },
    {
     "data": {
      "application/vnd.jupyter.widget-view+json": {
       "model_id": "bf1cb75e4af446ac9b44cee8b19783c2",
       "version_major": 2,
       "version_minor": 0
      },
      "text/plain": [
       "Map (num_proc=20):   0%|          | 0/1000 [00:00<?, ? examples/s]"
      ]
     },
     "metadata": {},
     "output_type": "display_data"
    }
   ],
   "source": [
    "from unsloth.chat_templates import train_on_responses_only\n",
    "trainer = train_on_responses_only(\n",
    "    trainer,\n",
    "    instruction_part = \"<start_of_turn>user\\n\",\n",
    "    response_part = \"<start_of_turn>model\\n\",\n",
    ")"
   ]
  },
  {
   "cell_type": "code",
   "execution_count": 13,
   "id": "183d791d",
   "metadata": {},
   "outputs": [
    {
     "name": "stdout",
     "output_type": "stream",
     "text": [
      "<bos><start_of_turn>user\n",
      "You are an expert specialized in medicine. Your role is to provide precise, factual, and immediate information without any superfluous language, greetings, or acknowledgments.\n",
      "\n",
      "What are the treatments for Warsaw breakage syndrome ?<end_of_turn>\n",
      "<start_of_turn>model\n",
      "These resources address the diagnosis or management of Warsaw breakage syndrome:  - Centers for Disease Control and Prevention: Hearing Loss in Children  - Genetic Testing Registry: Warsaw breakage syndrome  - MedlinePlus Encyclopedia: Hearing Loss--Infants   These resources from MedlinePlus offer information about the diagnosis and management of various health conditions:  - Diagnostic Tests  - Drug Therapy  - Surgery and Rehabilitation  - Genetic Counseling   - Palliative Care<end_of_turn>\n",
      "\n"
     ]
    }
   ],
   "source": [
    "print(tokenizer.decode(trainer.train_dataset[100][\"input_ids\"]))"
   ]
  },
  {
   "cell_type": "code",
   "execution_count": 14,
   "id": "f2cb20bc",
   "metadata": {},
   "outputs": [
    {
     "name": "stdout",
     "output_type": "stream",
     "text": [
      "                                                  These resources address the diagnosis or management of Warsaw breakage syndrome:  - Centers for Disease Control and Prevention: Hearing Loss in Children  - Genetic Testing Registry: Warsaw breakage syndrome  - MedlinePlus Encyclopedia: Hearing Loss--Infants   These resources from MedlinePlus offer information about the diagnosis and management of various health conditions:  - Diagnostic Tests  - Drug Therapy  - Surgery and Rehabilitation  - Genetic Counseling   - Palliative Care<end_of_turn>\n",
      "\n"
     ]
    }
   ],
   "source": [
    "# print masked output (only answer to be shown)\n",
    "print(tokenizer.decode(\n",
    "    [tokenizer.pad_token_id if x == -100 else x for x in trainer.train_dataset[100][\"labels\"]]\n",
    ").replace(tokenizer.pad_token, \" \"))"
   ]
  },
  {
   "cell_type": "code",
   "execution_count": 15,
   "id": "44891144",
   "metadata": {},
   "outputs": [
    {
     "name": "stderr",
     "output_type": "stream",
     "text": [
      "==((====))==  Unsloth - 2x faster free finetuning | Num GPUs used = 1\n",
      "   \\\\   /|    Num examples = 13,989 | Num Epochs = 4 | Total steps = 1,752\n",
      "O^O/ \\_/ \\    Batch size per device = 32 | Gradient accumulation steps = 1\n",
      "\\        /    Data Parallel GPUs = 1 | Total batch size (32 x 1 x 1) = 32\n",
      " \"-____-\"     Trainable parameters = 268,098,176 of 268,098,176 (100.00% trained)\n"
     ]
    },
    {
     "data": {
      "text/html": [
       "\n",
       "    <div>\n",
       "      \n",
       "      <progress value='1752' max='1752' style='width:300px; height:20px; vertical-align: middle;'></progress>\n",
       "      [1752/1752 33:48, Epoch 4/4]\n",
       "    </div>\n",
       "    <table border=\"1\" class=\"dataframe\">\n",
       "  <thead>\n",
       " <tr style=\"text-align: left;\">\n",
       "      <th>Step</th>\n",
       "      <th>Training Loss</th>\n",
       "      <th>Validation Loss</th>\n",
       "    </tr>\n",
       "  </thead>\n",
       "  <tbody>\n",
       "    <tr>\n",
       "      <td>200</td>\n",
       "      <td>1.852600</td>\n",
       "      <td>1.800714</td>\n",
       "    </tr>\n",
       "    <tr>\n",
       "      <td>400</td>\n",
       "      <td>1.743900</td>\n",
       "      <td>1.742477</td>\n",
       "    </tr>\n",
       "    <tr>\n",
       "      <td>600</td>\n",
       "      <td>1.710800</td>\n",
       "      <td>1.716741</td>\n",
       "    </tr>\n",
       "    <tr>\n",
       "      <td>800</td>\n",
       "      <td>1.703400</td>\n",
       "      <td>1.702155</td>\n",
       "    </tr>\n",
       "    <tr>\n",
       "      <td>1000</td>\n",
       "      <td>1.683900</td>\n",
       "      <td>1.693971</td>\n",
       "    </tr>\n",
       "    <tr>\n",
       "      <td>1200</td>\n",
       "      <td>1.661800</td>\n",
       "      <td>1.689878</td>\n",
       "    </tr>\n",
       "    <tr>\n",
       "      <td>1400</td>\n",
       "      <td>1.666400</td>\n",
       "      <td>1.688075</td>\n",
       "    </tr>\n",
       "    <tr>\n",
       "      <td>1600</td>\n",
       "      <td>1.669500</td>\n",
       "      <td>1.687560</td>\n",
       "    </tr>\n",
       "  </tbody>\n",
       "</table><p>"
      ],
      "text/plain": [
       "<IPython.core.display.HTML object>"
      ]
     },
     "metadata": {},
     "output_type": "display_data"
    },
    {
     "name": "stdout",
     "output_type": "stream",
     "text": [
      "Unsloth: Will smartly offload gradients to save VRAM!\n"
     ]
    }
   ],
   "source": [
    "trainer_stats = trainer.train()"
   ]
  },
  {
   "cell_type": "code",
   "execution_count": 16,
   "id": "366fd4da",
   "metadata": {},
   "outputs": [
    {
     "data": {
      "text/plain": [
       "('saved_models/full_model2/tokenizer_config.json',\n",
       " 'saved_models/full_model2/special_tokens_map.json',\n",
       " 'saved_models/full_model2/chat_template.jinja',\n",
       " 'saved_models/full_model2/tokenizer.model',\n",
       " 'saved_models/full_model2/added_tokens.json',\n",
       " 'saved_models/full_model2/tokenizer.json')"
      ]
     },
     "execution_count": 16,
     "metadata": {},
     "output_type": "execute_result"
    }
   ],
   "source": [
    "# save only the lora adaptors\n",
    "model.save_pretrained(\"saved_models/full_model2\") \n",
    "tokenizer.save_pretrained(\"saved_models/full_model2\")"
   ]
  },
  {
   "cell_type": "code",
   "execution_count": null,
   "id": "796546e2",
   "metadata": {},
   "outputs": [],
   "source": [
    "trainer_stats"
   ]
  },
  {
   "cell_type": "code",
   "execution_count": null,
   "id": "753b1de8",
   "metadata": {},
   "outputs": [],
   "source": []
  },
  {
   "cell_type": "code",
   "execution_count": null,
   "id": "2816a29f",
   "metadata": {},
   "outputs": [],
   "source": []
  },
  {
   "cell_type": "code",
   "execution_count": null,
   "metadata": {},
   "outputs": [],
   "source": []
  },
  {
   "cell_type": "code",
   "execution_count": null,
   "metadata": {},
   "outputs": [],
   "source": []
  },
  {
   "cell_type": "markdown",
   "id": "25024d0c",
   "metadata": {},
   "source": [
    "# evaluation"
   ]
  },
  {
   "cell_type": "markdown",
   "id": "61496ad3",
   "metadata": {},
   "source": [
    "## base line model\n",
    "- gemma3:270m"
   ]
  },
  {
   "cell_type": "code",
   "execution_count": null,
   "id": "abfb1944",
   "metadata": {},
   "outputs": [],
   "source": [
    "from src.llm_helper import invoke_llm\n"
   ]
  },
  {
   "cell_type": "code",
   "execution_count": null,
   "id": "42f94fc7",
   "metadata": {},
   "outputs": [],
   "source": [
    "res = []\n",
    "for example in tqdm(dataset['val'].select(range(2))):\n",
    "    answer = invoke_llm(example['instruction'])\n",
    "    res.append([rouge_lsum(answer, example['output']), [example['instruction'], answer]])\n"
   ]
  },
  {
   "cell_type": "code",
   "execution_count": null,
   "id": "802250ba",
   "metadata": {},
   "outputs": [],
   "source": [
    "res"
   ]
  },
  {
   "cell_type": "code",
   "execution_count": null,
   "id": "0eec9555",
   "metadata": {},
   "outputs": [],
   "source": []
  },
  {
   "cell_type": "code",
   "execution_count": null,
   "id": "50353a01",
   "metadata": {},
   "outputs": [],
   "source": []
  },
  {
   "cell_type": "code",
   "execution_count": null,
   "id": "4974cf0e",
   "metadata": {},
   "outputs": [],
   "source": []
  },
  {
   "cell_type": "code",
   "execution_count": null,
   "id": "b5039f2c",
   "metadata": {},
   "outputs": [],
   "source": []
  },
  {
   "cell_type": "code",
   "execution_count": null,
   "id": "54c5a9f1",
   "metadata": {},
   "outputs": [],
   "source": []
  },
  {
   "cell_type": "markdown",
   "id": "fc8d805d",
   "metadata": {},
   "source": []
  },
  {
   "cell_type": "markdown",
   "id": "cb7943ed",
   "metadata": {},
   "source": []
  },
  {
   "cell_type": "code",
   "execution_count": null,
   "id": "5f993426",
   "metadata": {},
   "outputs": [],
   "source": []
  }
 ],
 "metadata": {
  "kernelspec": {
   "display_name": ".venv",
   "language": "python",
   "name": "python3"
  },
  "language_info": {
   "codemirror_mode": {
    "name": "ipython",
    "version": 3
   },
   "file_extension": ".py",
   "mimetype": "text/x-python",
   "name": "python",
   "nbconvert_exporter": "python",
   "pygments_lexer": "ipython3",
   "version": "3.10.12"
  }
 },
 "nbformat": 4,
 "nbformat_minor": 5
}
