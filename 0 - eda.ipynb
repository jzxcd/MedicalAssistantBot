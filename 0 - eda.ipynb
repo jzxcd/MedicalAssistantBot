{
 "cells": [
  {
   "cell_type": "markdown",
   "id": "515d0d60",
   "metadata": {},
   "source": [
    "# Quick EDA and Data Cleaning"
   ]
  },
  {
   "cell_type": "code",
   "execution_count": 3,
   "id": "346fd326",
   "metadata": {},
   "outputs": [],
   "source": [
    "import pandas as pd\n",
    "import numpy as np\n",
    "import matplotlib.pyplot as plt\n",
    "import seaborn as sns\n",
    "pd.set_option('display.max_colwidth', 200)\n",
    "pd.set_option('display.width', 2000)\n",
    "\n",
    "df = pd.read_csv('data/mle_screening_dataset - mle_screening_dataset.csv')"
   ]
  },
  {
   "cell_type": "code",
   "execution_count": 4,
   "id": "6e66ce54",
   "metadata": {},
   "outputs": [
    {
     "name": "stdout",
     "output_type": "stream",
     "text": [
      "<class 'pandas.core.frame.DataFrame'>\n",
      "RangeIndex: 16406 entries, 0 to 16405\n",
      "Data columns (total 2 columns):\n",
      " #   Column    Non-Null Count  Dtype \n",
      "---  ------    --------------  ----- \n",
      " 0   question  16406 non-null  object\n",
      " 1   answer    16401 non-null  object\n",
      "dtypes: object(2)\n",
      "memory usage: 256.5+ KB\n"
     ]
    }
   ],
   "source": [
    "df.info()"
   ]
  },
  {
   "cell_type": "code",
   "execution_count": 29,
   "id": "c7ebe095",
   "metadata": {},
   "outputs": [
    {
     "data": {
      "text/plain": [
       "14976"
      ]
     },
     "execution_count": 29,
     "metadata": {},
     "output_type": "execute_result"
    }
   ],
   "source": [
    "df.question.nunique()"
   ]
  },
  {
   "cell_type": "code",
   "execution_count": 5,
   "id": "97995165",
   "metadata": {},
   "outputs": [],
   "source": [
    "# initialize idx to drop\n",
    "# this to avoid some text normalization convenient only for EDA purpose but not necessary for model fine tuning\n",
    "idx_to_drop = []"
   ]
  },
  {
   "cell_type": "code",
   "execution_count": 6,
   "id": "8a43de65",
   "metadata": {},
   "outputs": [
    {
     "data": {
      "text/plain": [
       "(16401, 2)"
      ]
     },
     "execution_count": 6,
     "metadata": {},
     "output_type": "execute_result"
    }
   ],
   "source": [
    "df = df.dropna()\n",
    "df.shape"
   ]
  },
  {
   "cell_type": "code",
   "execution_count": 7,
   "id": "a9d380f5",
   "metadata": {},
   "outputs": [],
   "source": [
    "# some formating easier and just for EDA\n",
    "df['q_length'] = [len(i) for i in df['question']]\n",
    "df['a_length'] = [len(i) for i in df['answer']]"
   ]
  },
  {
   "cell_type": "code",
   "execution_count": 8,
   "id": "39e46521",
   "metadata": {},
   "outputs": [
    {
     "data": {
      "text/html": [
       "<div>\n",
       "<style scoped>\n",
       "    .dataframe tbody tr th:only-of-type {\n",
       "        vertical-align: middle;\n",
       "    }\n",
       "\n",
       "    .dataframe tbody tr th {\n",
       "        vertical-align: top;\n",
       "    }\n",
       "\n",
       "    .dataframe thead th {\n",
       "        text-align: right;\n",
       "    }\n",
       "</style>\n",
       "<table border=\"1\" class=\"dataframe\">\n",
       "  <thead>\n",
       "    <tr style=\"text-align: right;\">\n",
       "      <th></th>\n",
       "      <th>question</th>\n",
       "      <th>answer</th>\n",
       "      <th>q_length</th>\n",
       "      <th>a_length</th>\n",
       "    </tr>\n",
       "  </thead>\n",
       "  <tbody>\n",
       "    <tr>\n",
       "      <th>7881</th>\n",
       "      <td>What is (are)  ?</td>\n",
       "      <td>On this Page General Information What is vancomycin-resistant enterococci? What types of infections does vancomycin-resistant enterococci cause? Are certain people at risk of getting vancomycin-re...</td>\n",
       "      <td>16</td>\n",
       "      <td>4395</td>\n",
       "    </tr>\n",
       "    <tr>\n",
       "      <th>8073</th>\n",
       "      <td>What is (are)  ?</td>\n",
       "      <td>On this Page General Information about VISA/VRSA What is Staphylococcus aureus? How do VISA and VRSA get their names? What should a patient do if they suspect they have a Staph, MRSA, VISA, or VRS...</td>\n",
       "      <td>16</td>\n",
       "      <td>5359</td>\n",
       "    </tr>\n",
       "    <tr>\n",
       "      <th>8079</th>\n",
       "      <td>How to prevent  ?</td>\n",
       "      <td>Vaccines and Preventable Diseases On this Page Vaccine Shortages &amp; Delays Potential New Vaccines Vaccines: The Basics FAQ about Vaccines &amp; Diseases they Prevent   VACCINE-PREVENTABLE DISEASES OR, ...</td>\n",
       "      <td>17</td>\n",
       "      <td>3299</td>\n",
       "    </tr>\n",
       "    <tr>\n",
       "      <th>8060</th>\n",
       "      <td>what is botulism?</td>\n",
       "      <td>Botulism is a rare but serious paralytic illness caused by a nerve toxin that is produced by the bacterium Clostridium botulinum and sometimes by strains of Clostridium butyricum and Clostridium b...</td>\n",
       "      <td>17</td>\n",
       "      <td>978</td>\n",
       "    </tr>\n",
       "    <tr>\n",
       "      <th>304</th>\n",
       "      <td>What causes COPD ?</td>\n",
       "      <td>Cigarette smoking is the most common cause of COPD. Most people with COPD are smokers or have been smokers in the past. Breathing in other fumes and dusts over long periods of time can also lead t...</td>\n",
       "      <td>18</td>\n",
       "      <td>455</td>\n",
       "    </tr>\n",
       "    <tr>\n",
       "      <th>8269</th>\n",
       "      <td>What causes ARDS ?</td>\n",
       "      <td>Many conditions or factors can directly or indirectly injure the lungs and lead to ARDS. Some common ones are:\\n                \\nSepsis. This is a condition in which bacteria infect the bloodstre...</td>\n",
       "      <td>18</td>\n",
       "      <td>702</td>\n",
       "    </tr>\n",
       "    <tr>\n",
       "      <th>303</th>\n",
       "      <td>What causes COPD ?</td>\n",
       "      <td>COPD is a disease that slowly worsens over time, especially if you continue to smoke. If you have COPD, you are more likely to have lung infections, which can be fatal. If the lungs are severely d...</td>\n",
       "      <td>18</td>\n",
       "      <td>516</td>\n",
       "    </tr>\n",
       "    <tr>\n",
       "      <th>299</th>\n",
       "      <td>What causes COPD ?</td>\n",
       "      <td>Smoking Most cases of COPD develop over time, from breathing in fumes and other things that irritate the lungs. Some of the things that put you at risk for COPD include smoking, environmental expo...</td>\n",
       "      <td>18</td>\n",
       "      <td>1817</td>\n",
       "    </tr>\n",
       "    <tr>\n",
       "      <th>694</th>\n",
       "      <td>What causes Gout ?</td>\n",
       "      <td>Most people with gout have too much uric acid in their blood, a condition called hyperuricemia. Uric acid is a substance that results from the breakdown of purines, which are part of all human tis...</td>\n",
       "      <td>18</td>\n",
       "      <td>466</td>\n",
       "    </tr>\n",
       "    <tr>\n",
       "      <th>689</th>\n",
       "      <td>What causes Gout ?</td>\n",
       "      <td>A Buildup of Uric Acid Most people with gout have too much uric acid in their blood, a condition called hyperuricemia. Uric acid is a substance that results from the breakdown of purines which are...</td>\n",
       "      <td>18</td>\n",
       "      <td>6748</td>\n",
       "    </tr>\n",
       "  </tbody>\n",
       "</table>\n",
       "</div>"
      ],
      "text/plain": [
       "                question                                                                                                                                                                                                   answer  q_length  a_length\n",
       "7881    What is (are)  ?  On this Page General Information What is vancomycin-resistant enterococci? What types of infections does vancomycin-resistant enterococci cause? Are certain people at risk of getting vancomycin-re...        16      4395\n",
       "8073    What is (are)  ?  On this Page General Information about VISA/VRSA What is Staphylococcus aureus? How do VISA and VRSA get their names? What should a patient do if they suspect they have a Staph, MRSA, VISA, or VRS...        16      5359\n",
       "8079   How to prevent  ?  Vaccines and Preventable Diseases On this Page Vaccine Shortages & Delays Potential New Vaccines Vaccines: The Basics FAQ about Vaccines & Diseases they Prevent   VACCINE-PREVENTABLE DISEASES OR, ...        17      3299\n",
       "8060   what is botulism?  Botulism is a rare but serious paralytic illness caused by a nerve toxin that is produced by the bacterium Clostridium botulinum and sometimes by strains of Clostridium butyricum and Clostridium b...        17       978\n",
       "304   What causes COPD ?  Cigarette smoking is the most common cause of COPD. Most people with COPD are smokers or have been smokers in the past. Breathing in other fumes and dusts over long periods of time can also lead t...        18       455\n",
       "8269  What causes ARDS ?  Many conditions or factors can directly or indirectly injure the lungs and lead to ARDS. Some common ones are:\\n                \\nSepsis. This is a condition in which bacteria infect the bloodstre...        18       702\n",
       "303   What causes COPD ?  COPD is a disease that slowly worsens over time, especially if you continue to smoke. If you have COPD, you are more likely to have lung infections, which can be fatal. If the lungs are severely d...        18       516\n",
       "299   What causes COPD ?  Smoking Most cases of COPD develop over time, from breathing in fumes and other things that irritate the lungs. Some of the things that put you at risk for COPD include smoking, environmental expo...        18      1817\n",
       "694   What causes Gout ?  Most people with gout have too much uric acid in their blood, a condition called hyperuricemia. Uric acid is a substance that results from the breakdown of purines, which are part of all human tis...        18       466\n",
       "689   What causes Gout ?  A Buildup of Uric Acid Most people with gout have too much uric acid in their blood, a condition called hyperuricemia. Uric acid is a substance that results from the breakdown of purines which are...        18      6748"
      ]
     },
     "execution_count": 8,
     "metadata": {},
     "output_type": "execute_result"
    }
   ],
   "source": [
    "# some questions dont seem to be completed\n",
    "i = 0\n",
    "df.sort_values('q_length').iloc[i: i+10, :]"
   ]
  },
  {
   "cell_type": "code",
   "execution_count": 9,
   "id": "80f39fe3",
   "metadata": {},
   "outputs": [
    {
     "data": {
      "text/html": [
       "<div>\n",
       "<style scoped>\n",
       "    .dataframe tbody tr th:only-of-type {\n",
       "        vertical-align: middle;\n",
       "    }\n",
       "\n",
       "    .dataframe tbody tr th {\n",
       "        vertical-align: top;\n",
       "    }\n",
       "\n",
       "    .dataframe thead th {\n",
       "        text-align: right;\n",
       "    }\n",
       "</style>\n",
       "<table border=\"1\" class=\"dataframe\">\n",
       "  <thead>\n",
       "    <tr style=\"text-align: right;\">\n",
       "      <th></th>\n",
       "      <th>question</th>\n",
       "      <th>answer</th>\n",
       "      <th>q_length</th>\n",
       "      <th>a_length</th>\n",
       "    </tr>\n",
       "  </thead>\n",
       "  <tbody>\n",
       "    <tr>\n",
       "      <th>7977</th>\n",
       "      <td>How to prevent Acanthamoeba - Granulomatous Amebic Encephalitis (GAE); Keratitis ?</td>\n",
       "      <td>Topics</td>\n",
       "      <td>82</td>\n",
       "      <td>6</td>\n",
       "    </tr>\n",
       "    <tr>\n",
       "      <th>2556</th>\n",
       "      <td>What causes Bell's palsy ?</td>\n",
       "      <td>What causes Bell's palsy?</td>\n",
       "      <td>26</td>\n",
       "      <td>25</td>\n",
       "    </tr>\n",
       "    <tr>\n",
       "      <th>3135</th>\n",
       "      <td>Is Williams syndrome inherited ?</td>\n",
       "      <td>Is Williams syndrome inherited?</td>\n",
       "      <td>32</td>\n",
       "      <td>31</td>\n",
       "    </tr>\n",
       "    <tr>\n",
       "      <th>3080</th>\n",
       "      <td>Is 48,XXYY syndrome inherited ?</td>\n",
       "      <td>Can 48,XXYY syndrome be inherited?</td>\n",
       "      <td>31</td>\n",
       "      <td>34</td>\n",
       "    </tr>\n",
       "    <tr>\n",
       "      <th>2557</th>\n",
       "      <td>What are the treatments for Bell's palsy ?</td>\n",
       "      <td>How might Bell's palsy be treated?</td>\n",
       "      <td>42</td>\n",
       "      <td>34</td>\n",
       "    </tr>\n",
       "    <tr>\n",
       "      <th>11777</th>\n",
       "      <td>How many people are affected by blepharophimosis, ptosis, and epicanthus inversus syndrome ?</td>\n",
       "      <td>The prevalence of BPES is unknown.</td>\n",
       "      <td>92</td>\n",
       "      <td>34</td>\n",
       "    </tr>\n",
       "    <tr>\n",
       "      <th>8001</th>\n",
       "      <td>What is (are) Parasites - African Trypanosomiasis (also known as Sleeping Sickness) ?</td>\n",
       "      <td>Frequently Asked Queestions (FAQs)</td>\n",
       "      <td>85</td>\n",
       "      <td>34</td>\n",
       "    </tr>\n",
       "    <tr>\n",
       "      <th>8041</th>\n",
       "      <td>What is (are) Parasites - Paragonimiasis (also known as Paragonimus Infection) ?</td>\n",
       "      <td>Frequently Asked Queestions (FAQs)</td>\n",
       "      <td>80</td>\n",
       "      <td>34</td>\n",
       "    </tr>\n",
       "    <tr>\n",
       "      <th>5782</th>\n",
       "      <td>Is Septo-optic dysplasia inherited ?</td>\n",
       "      <td>Is septo-optic dysplasia inherited?</td>\n",
       "      <td>36</td>\n",
       "      <td>35</td>\n",
       "    </tr>\n",
       "    <tr>\n",
       "      <th>2555</th>\n",
       "      <td>What are the symptoms of Bell's palsy ?</td>\n",
       "      <td>What are the symptoms of Bell's palsy?</td>\n",
       "      <td>39</td>\n",
       "      <td>38</td>\n",
       "    </tr>\n",
       "  </tbody>\n",
       "</table>\n",
       "</div>"
      ],
      "text/plain": [
       "                                                                                           question                                  answer  q_length  a_length\n",
       "7977             How to prevent Acanthamoeba - Granulomatous Amebic Encephalitis (GAE); Keratitis ?                                  Topics        82         6\n",
       "2556                                                                     What causes Bell's palsy ?               What causes Bell's palsy?        26        25\n",
       "3135                                                               Is Williams syndrome inherited ?         Is Williams syndrome inherited?        32        31\n",
       "3080                                                                Is 48,XXYY syndrome inherited ?      Can 48,XXYY syndrome be inherited?        31        34\n",
       "2557                                                     What are the treatments for Bell's palsy ?      How might Bell's palsy be treated?        42        34\n",
       "11777  How many people are affected by blepharophimosis, ptosis, and epicanthus inversus syndrome ?      The prevalence of BPES is unknown.        92        34\n",
       "8001          What is (are) Parasites - African Trypanosomiasis (also known as Sleeping Sickness) ?      Frequently Asked Queestions (FAQs)        85        34\n",
       "8041               What is (are) Parasites - Paragonimiasis (also known as Paragonimus Infection) ?      Frequently Asked Queestions (FAQs)        80        34\n",
       "5782                                                           Is Septo-optic dysplasia inherited ?     Is septo-optic dysplasia inherited?        36        35\n",
       "2555                                                        What are the symptoms of Bell's palsy ?  What are the symptoms of Bell's palsy?        39        38"
      ]
     },
     "execution_count": 9,
     "metadata": {},
     "output_type": "execute_result"
    }
   ],
   "source": [
    "# some answers are not actual answers or just repeat from the question\n",
    "i = 0\n",
    "df.sort_values('a_length').iloc[i: i+10, :]"
   ]
  },
  {
   "cell_type": "code",
   "execution_count": 10,
   "id": "58fe4d12",
   "metadata": {},
   "outputs": [
    {
     "data": {
      "text/html": [
       "<div>\n",
       "<style scoped>\n",
       "    .dataframe tbody tr th:only-of-type {\n",
       "        vertical-align: middle;\n",
       "    }\n",
       "\n",
       "    .dataframe tbody tr th {\n",
       "        vertical-align: top;\n",
       "    }\n",
       "\n",
       "    .dataframe thead th {\n",
       "        text-align: right;\n",
       "    }\n",
       "</style>\n",
       "<table border=\"1\" class=\"dataframe\">\n",
       "  <thead>\n",
       "    <tr style=\"text-align: right;\">\n",
       "      <th></th>\n",
       "      <th>question</th>\n",
       "      <th>answer</th>\n",
       "      <th>q_length</th>\n",
       "      <th>a_length</th>\n",
       "    </tr>\n",
       "  </thead>\n",
       "  <tbody>\n",
       "    <tr>\n",
       "      <th>8573</th>\n",
       "      <td>What are the treatments for Overweight and Obesity ?</td>\n",
       "      <td>Successful weight-loss treatments include setting goals and making lifestyle changes, such as eating fewer calories and being physically active. Medicines and weight-loss surgery also are options ...</td>\n",
       "      <td>52</td>\n",
       "      <td>22218</td>\n",
       "    </tr>\n",
       "    <tr>\n",
       "      <th>1222</th>\n",
       "      <td>What are the treatments for Childhood Rhabdomyosarcoma ?</td>\n",
       "      <td>Key Points\\n                    - There are different types of treatment for patients with childhood rhabdomyosarcoma.    - Children with rhabdomyosarcoma should have their treatment planned by a ...</td>\n",
       "      <td>56</td>\n",
       "      <td>22975</td>\n",
       "    </tr>\n",
       "    <tr>\n",
       "      <th>1003</th>\n",
       "      <td>What are the treatments for Non-Small Cell Lung Cancer ?</td>\n",
       "      <td>Key Points\\n                    - There are different types of treatment for patients with non-small cell lung cancer.    - Nine types of standard treatment are used:         - Surgery      - Radi...</td>\n",
       "      <td>56</td>\n",
       "      <td>23060</td>\n",
       "    </tr>\n",
       "    <tr>\n",
       "      <th>1211</th>\n",
       "      <td>What are the treatments for Adult Central Nervous System Tumors ?</td>\n",
       "      <td>Key Points\\n                    - There are different types of treatment for patients with adult brain and spinal cord tumors.     - Five types of standard treatment are used:         - Active sur...</td>\n",
       "      <td>65</td>\n",
       "      <td>23065</td>\n",
       "    </tr>\n",
       "    <tr>\n",
       "      <th>996</th>\n",
       "      <td>What are the treatments for Childhood Acute Myeloid Leukemia and Other Myeloid Malignancies ?</td>\n",
       "      <td>Key Points\\n                    - There are different types of treatment for children with acute myeloid leukemia (AML), chronic myelogenous leukemia (CML), juvenile myelomonocytic leukemia (JMML)...</td>\n",
       "      <td>93</td>\n",
       "      <td>23540</td>\n",
       "    </tr>\n",
       "    <tr>\n",
       "      <th>1423</th>\n",
       "      <td>What are the treatments for Childhood Acute Lymphoblastic Leukemia ?</td>\n",
       "      <td>Key Points\\n                    - There are different types of treatment for childhood acute lymphoblastic leukemia (ALL).     - Children with ALL should have their treatment planned by a team of ...</td>\n",
       "      <td>68</td>\n",
       "      <td>23659</td>\n",
       "    </tr>\n",
       "    <tr>\n",
       "      <th>8385</th>\n",
       "      <td>What are the treatments for Sickle Cell Disease ?</td>\n",
       "      <td>Health Maintenance To Prevent Complications\\n                \\nBabies with sickle cell disease (SCD) should be referred to a doctor or provider group that has experience taking care of people with...</td>\n",
       "      <td>49</td>\n",
       "      <td>24733</td>\n",
       "    </tr>\n",
       "    <tr>\n",
       "      <th>822</th>\n",
       "      <td>What are the treatments for Childhood Soft Tissue Sarcoma ?</td>\n",
       "      <td>Key Points\\n                    - There are different types of treatment for patients with childhood soft tissue sarcoma.    - Children with childhood soft tissue sarcoma should have their treatme...</td>\n",
       "      <td>59</td>\n",
       "      <td>27610</td>\n",
       "    </tr>\n",
       "    <tr>\n",
       "      <th>1009</th>\n",
       "      <td>What is (are) Childhood Vascular Tumors ?</td>\n",
       "      <td>Key Points\\n                    - Childhood vascular tumors form from cells that make blood vessels or lymph vessels.    - Tests are used to detect (find) and diagnose childhood vascular tumors.  ...</td>\n",
       "      <td>41</td>\n",
       "      <td>27910</td>\n",
       "    </tr>\n",
       "    <tr>\n",
       "      <th>1160</th>\n",
       "      <td>What are the treatments for Breast Cancer ?</td>\n",
       "      <td>Key Points\\n                    - There are different types of treatment for patients with breast cancer.    - Five types of standard treatment are used:         - Surgery      - Radiation therapy...</td>\n",
       "      <td>43</td>\n",
       "      <td>29046</td>\n",
       "    </tr>\n",
       "  </tbody>\n",
       "</table>\n",
       "</div>"
      ],
      "text/plain": [
       "                                                                                           question                                                                                                                                                                                                   answer  q_length  a_length\n",
       "8573                                           What are the treatments for Overweight and Obesity ?  Successful weight-loss treatments include setting goals and making lifestyle changes, such as eating fewer calories and being physically active. Medicines and weight-loss surgery also are options ...        52     22218\n",
       "1222                                       What are the treatments for Childhood Rhabdomyosarcoma ?  Key Points\\n                    - There are different types of treatment for patients with childhood rhabdomyosarcoma.    - Children with rhabdomyosarcoma should have their treatment planned by a ...        56     22975\n",
       "1003                                       What are the treatments for Non-Small Cell Lung Cancer ?  Key Points\\n                    - There are different types of treatment for patients with non-small cell lung cancer.    - Nine types of standard treatment are used:         - Surgery      - Radi...        56     23060\n",
       "1211                              What are the treatments for Adult Central Nervous System Tumors ?  Key Points\\n                    - There are different types of treatment for patients with adult brain and spinal cord tumors.     - Five types of standard treatment are used:         - Active sur...        65     23065\n",
       "996   What are the treatments for Childhood Acute Myeloid Leukemia and Other Myeloid Malignancies ?  Key Points\\n                    - There are different types of treatment for children with acute myeloid leukemia (AML), chronic myelogenous leukemia (CML), juvenile myelomonocytic leukemia (JMML)...        93     23540\n",
       "1423                           What are the treatments for Childhood Acute Lymphoblastic Leukemia ?  Key Points\\n                    - There are different types of treatment for childhood acute lymphoblastic leukemia (ALL).     - Children with ALL should have their treatment planned by a team of ...        68     23659\n",
       "8385                                              What are the treatments for Sickle Cell Disease ?  Health Maintenance To Prevent Complications\\n                \\nBabies with sickle cell disease (SCD) should be referred to a doctor or provider group that has experience taking care of people with...        49     24733\n",
       "822                                     What are the treatments for Childhood Soft Tissue Sarcoma ?  Key Points\\n                    - There are different types of treatment for patients with childhood soft tissue sarcoma.    - Children with childhood soft tissue sarcoma should have their treatme...        59     27610\n",
       "1009                                                      What is (are) Childhood Vascular Tumors ?  Key Points\\n                    - Childhood vascular tumors form from cells that make blood vessels or lymph vessels.    - Tests are used to detect (find) and diagnose childhood vascular tumors.  ...        41     27910\n",
       "1160                                                    What are the treatments for Breast Cancer ?  Key Points\\n                    - There are different types of treatment for patients with breast cancer.    - Five types of standard treatment are used:         - Surgery      - Radiation therapy...        43     29046"
      ]
     },
     "execution_count": 10,
     "metadata": {},
     "output_type": "execute_result"
    }
   ],
   "source": [
    "# some really long answer to be found. \n",
    "df.sort_values('a_length').tail(10)"
   ]
  },
  {
   "cell_type": "markdown",
   "id": "7c521841",
   "metadata": {},
   "source": [
    "## question dist"
   ]
  },
  {
   "cell_type": "code",
   "execution_count": 11,
   "id": "90d4dcca",
   "metadata": {},
   "outputs": [
    {
     "data": {
      "text/plain": [
       "Text(0.5, 1.0, 'question Length Distribution')"
      ]
     },
     "execution_count": 11,
     "metadata": {},
     "output_type": "execute_result"
    },
    {
     "data": {
      "image/png": "[encoded data removed]",
      "text/plain": [
       "<Figure size 640x480 with 1 Axes>"
      ]
     },
     "metadata": {},
     "output_type": "display_data"
    }
   ],
   "source": [
    "sns.histplot(df['q_length'])\n",
    "plt.title('question Length Distribution')"
   ]
  },
  {
   "cell_type": "code",
   "execution_count": 12,
   "id": "9e43c5b8",
   "metadata": {},
   "outputs": [
    {
     "data": {
      "text/html": [
       "<div>\n",
       "<style scoped>\n",
       "    .dataframe tbody tr th:only-of-type {\n",
       "        vertical-align: middle;\n",
       "    }\n",
       "\n",
       "    .dataframe tbody tr th {\n",
       "        vertical-align: top;\n",
       "    }\n",
       "\n",
       "    .dataframe thead th {\n",
       "        text-align: right;\n",
       "    }\n",
       "</style>\n",
       "<table border=\"1\" class=\"dataframe\">\n",
       "  <thead>\n",
       "    <tr style=\"text-align: right;\">\n",
       "      <th></th>\n",
       "      <th>question</th>\n",
       "      <th>answer</th>\n",
       "      <th>q_length</th>\n",
       "      <th>a_length</th>\n",
       "    </tr>\n",
       "  </thead>\n",
       "  <tbody>\n",
       "    <tr>\n",
       "      <th>7881</th>\n",
       "      <td>What is (are)  ?</td>\n",
       "      <td>On this Page General Information What is vancomycin-resistant enterococci? What types of infections does vancomycin-resistant enterococci cause? Are certain people at risk of getting vancomycin-re...</td>\n",
       "      <td>16</td>\n",
       "      <td>4395</td>\n",
       "    </tr>\n",
       "    <tr>\n",
       "      <th>8073</th>\n",
       "      <td>What is (are)  ?</td>\n",
       "      <td>On this Page General Information about VISA/VRSA What is Staphylococcus aureus? How do VISA and VRSA get their names? What should a patient do if they suspect they have a Staph, MRSA, VISA, or VRS...</td>\n",
       "      <td>16</td>\n",
       "      <td>5359</td>\n",
       "    </tr>\n",
       "    <tr>\n",
       "      <th>8079</th>\n",
       "      <td>How to prevent  ?</td>\n",
       "      <td>Vaccines and Preventable Diseases On this Page Vaccine Shortages &amp; Delays Potential New Vaccines Vaccines: The Basics FAQ about Vaccines &amp; Diseases they Prevent   VACCINE-PREVENTABLE DISEASES OR, ...</td>\n",
       "      <td>17</td>\n",
       "      <td>3299</td>\n",
       "    </tr>\n",
       "    <tr>\n",
       "      <th>8060</th>\n",
       "      <td>what is botulism?</td>\n",
       "      <td>Botulism is a rare but serious paralytic illness caused by a nerve toxin that is produced by the bacterium Clostridium botulinum and sometimes by strains of Clostridium butyricum and Clostridium b...</td>\n",
       "      <td>17</td>\n",
       "      <td>978</td>\n",
       "    </tr>\n",
       "    <tr>\n",
       "      <th>8269</th>\n",
       "      <td>What causes ARDS ?</td>\n",
       "      <td>Many conditions or factors can directly or indirectly injure the lungs and lead to ARDS. Some common ones are:\\n                \\nSepsis. This is a condition in which bacteria infect the bloodstre...</td>\n",
       "      <td>18</td>\n",
       "      <td>702</td>\n",
       "    </tr>\n",
       "  </tbody>\n",
       "</table>\n",
       "</div>"
      ],
      "text/plain": [
       "                question                                                                                                                                                                                                   answer  q_length  a_length\n",
       "7881    What is (are)  ?  On this Page General Information What is vancomycin-resistant enterococci? What types of infections does vancomycin-resistant enterococci cause? Are certain people at risk of getting vancomycin-re...        16      4395\n",
       "8073    What is (are)  ?  On this Page General Information about VISA/VRSA What is Staphylococcus aureus? How do VISA and VRSA get their names? What should a patient do if they suspect they have a Staph, MRSA, VISA, or VRS...        16      5359\n",
       "8079   How to prevent  ?  Vaccines and Preventable Diseases On this Page Vaccine Shortages & Delays Potential New Vaccines Vaccines: The Basics FAQ about Vaccines & Diseases they Prevent   VACCINE-PREVENTABLE DISEASES OR, ...        17      3299\n",
       "8060   what is botulism?  Botulism is a rare but serious paralytic illness caused by a nerve toxin that is produced by the bacterium Clostridium botulinum and sometimes by strains of Clostridium butyricum and Clostridium b...        17       978\n",
       "8269  What causes ARDS ?  Many conditions or factors can directly or indirectly injure the lungs and lead to ARDS. Some common ones are:\\n                \\nSepsis. This is a condition in which bacteria infect the bloodstre...        18       702"
      ]
     },
     "execution_count": 12,
     "metadata": {},
     "output_type": "execute_result"
    }
   ],
   "source": [
    "df.sort_values(['q_length', 'question']).head(5)"
   ]
  },
  {
   "cell_type": "code",
   "execution_count": 13,
   "id": "4b7aa1aa",
   "metadata": {},
   "outputs": [
    {
     "data": {
      "text/plain": [
       "3"
      ]
     },
     "execution_count": 13,
     "metadata": {},
     "output_type": "execute_result"
    }
   ],
   "source": [
    "# tag short invalid questions \n",
    "invalid_questions = ['What is (are) ?', 'How to prevent ?']\n",
    "# handle some extra space \n",
    "q = df['question'].str.strip().str.replace(r'\\s+', ' ', regex=True)\n",
    "idx_to_drop.extend(df[[i in invalid_questions for i in q]].index.tolist())\n",
    "len(idx_to_drop)"
   ]
  },
  {
   "cell_type": "markdown",
   "id": "67c06edf",
   "metadata": {},
   "source": [
    "## answer dist"
   ]
  },
  {
   "cell_type": "code",
   "execution_count": 14,
   "id": "ec2d6bef",
   "metadata": {},
   "outputs": [
    {
     "data": {
      "image/png": "[encoded data removed]",
      "text/plain": [
       "<Figure size 640x480 with 1 Axes>"
      ]
     },
     "metadata": {},
     "output_type": "display_data"
    }
   ],
   "source": [
    "sns.histplot(df['a_length'])\n",
    "# plt.xscale('log')\n",
    "plt.title('Answer Length Distribution')\n",
    "plt.show()"
   ]
  },
  {
   "cell_type": "code",
   "execution_count": 15,
   "id": "3ce5a001",
   "metadata": {},
   "outputs": [
    {
     "data": {
      "text/plain": [
       "393"
      ]
     },
     "execution_count": 15,
     "metadata": {},
     "output_type": "execute_result"
    }
   ],
   "source": [
    "# remove the long answer which i assume it would not be desired in production\n",
    "idx_to_drop.extend(df[df['a_length'] > 5000].index.tolist())\n",
    "len(idx_to_drop)"
   ]
  },
  {
   "cell_type": "markdown",
   "id": "51201570",
   "metadata": {},
   "source": [
    "# irrelevant questions/answer"
   ]
  },
  {
   "cell_type": "code",
   "execution_count": 18,
   "id": "076fbd4c",
   "metadata": {},
   "outputs": [
    {
     "data": {
      "text/html": [
       "<div>\n",
       "<style scoped>\n",
       "    .dataframe tbody tr th:only-of-type {\n",
       "        vertical-align: middle;\n",
       "    }\n",
       "\n",
       "    .dataframe tbody tr th {\n",
       "        vertical-align: top;\n",
       "    }\n",
       "\n",
       "    .dataframe thead th {\n",
       "        text-align: right;\n",
       "    }\n",
       "</style>\n",
       "<table border=\"1\" class=\"dataframe\">\n",
       "  <thead>\n",
       "    <tr style=\"text-align: right;\">\n",
       "      <th></th>\n",
       "      <th>question</th>\n",
       "      <th>answer</th>\n",
       "      <th>q_length</th>\n",
       "      <th>a_length</th>\n",
       "    </tr>\n",
       "  </thead>\n",
       "  <tbody>\n",
       "    <tr>\n",
       "      <th>2556</th>\n",
       "      <td>What causes Bell's palsy ?</td>\n",
       "      <td>What causes Bell's palsy?</td>\n",
       "      <td>26</td>\n",
       "      <td>25</td>\n",
       "    </tr>\n",
       "    <tr>\n",
       "      <th>3135</th>\n",
       "      <td>Is Williams syndrome inherited ?</td>\n",
       "      <td>Is Williams syndrome inherited?</td>\n",
       "      <td>32</td>\n",
       "      <td>31</td>\n",
       "    </tr>\n",
       "    <tr>\n",
       "      <th>2557</th>\n",
       "      <td>What are the treatments for Bell's palsy ?</td>\n",
       "      <td>How might Bell's palsy be treated?</td>\n",
       "      <td>42</td>\n",
       "      <td>34</td>\n",
       "    </tr>\n",
       "    <tr>\n",
       "      <th>3080</th>\n",
       "      <td>Is 48,XXYY syndrome inherited ?</td>\n",
       "      <td>Can 48,XXYY syndrome be inherited?</td>\n",
       "      <td>31</td>\n",
       "      <td>34</td>\n",
       "    </tr>\n",
       "    <tr>\n",
       "      <th>5782</th>\n",
       "      <td>Is Septo-optic dysplasia inherited ?</td>\n",
       "      <td>Is septo-optic dysplasia inherited?</td>\n",
       "      <td>36</td>\n",
       "      <td>35</td>\n",
       "    </tr>\n",
       "    <tr>\n",
       "      <th>2555</th>\n",
       "      <td>What are the symptoms of Bell's palsy ?</td>\n",
       "      <td>What are the symptoms of Bell's palsy?</td>\n",
       "      <td>39</td>\n",
       "      <td>38</td>\n",
       "    </tr>\n",
       "    <tr>\n",
       "      <th>3124</th>\n",
       "      <td>Is Wolff-Parkinson-White syndrome inherited ?</td>\n",
       "      <td>Is Wolff-Parkinson-White syndrome inherited?</td>\n",
       "      <td>45</td>\n",
       "      <td>44</td>\n",
       "    </tr>\n",
       "    <tr>\n",
       "      <th>5555</th>\n",
       "      <td>What are the treatments for Brown-Sequard syndrome ?</td>\n",
       "      <td>How might Brown-Sequard syndrome be treated?</td>\n",
       "      <td>52</td>\n",
       "      <td>44</td>\n",
       "    </tr>\n",
       "    <tr>\n",
       "      <th>5860</th>\n",
       "      <td>Is Pelizaeus-Merzbacher disease inherited ?</td>\n",
       "      <td>How is Pelizaeus-Merzbacher disease inherited?</td>\n",
       "      <td>43</td>\n",
       "      <td>46</td>\n",
       "    </tr>\n",
       "    <tr>\n",
       "      <th>4848</th>\n",
       "      <td>What are the treatments for Tubular aggregate myopathy ?</td>\n",
       "      <td>How might tubular aggregate myopathy be treated?</td>\n",
       "      <td>56</td>\n",
       "      <td>48</td>\n",
       "    </tr>\n",
       "  </tbody>\n",
       "</table>\n",
       "</div>"
      ],
      "text/plain": [
       "                                                      question                                            answer  q_length  a_length\n",
       "2556                                What causes Bell's palsy ?                         What causes Bell's palsy?        26        25\n",
       "3135                          Is Williams syndrome inherited ?                   Is Williams syndrome inherited?        32        31\n",
       "2557                What are the treatments for Bell's palsy ?                How might Bell's palsy be treated?        42        34\n",
       "3080                           Is 48,XXYY syndrome inherited ?                Can 48,XXYY syndrome be inherited?        31        34\n",
       "5782                      Is Septo-optic dysplasia inherited ?               Is septo-optic dysplasia inherited?        36        35\n",
       "2555                   What are the symptoms of Bell's palsy ?            What are the symptoms of Bell's palsy?        39        38\n",
       "3124             Is Wolff-Parkinson-White syndrome inherited ?      Is Wolff-Parkinson-White syndrome inherited?        45        44\n",
       "5555      What are the treatments for Brown-Sequard syndrome ?      How might Brown-Sequard syndrome be treated?        52        44\n",
       "5860               Is Pelizaeus-Merzbacher disease inherited ?    How is Pelizaeus-Merzbacher disease inherited?        43        46\n",
       "4848  What are the treatments for Tubular aggregate myopathy ?  How might tubular aggregate myopathy be treated?        56        48"
      ]
     },
     "execution_count": 18,
     "metadata": {},
     "output_type": "execute_result"
    }
   ],
   "source": [
    "\n",
    "# question mark in answer\n",
    "i = 0\n",
    "df[(df['answer'].str.contains(r'\\?'))].sort_values('a_length').iloc[i: i+10, :]"
   ]
  },
  {
   "cell_type": "code",
   "execution_count": 17,
   "id": "5ec1702f",
   "metadata": {},
   "outputs": [
    {
     "data": {
      "text/plain": [
       "410"
      ]
     },
     "execution_count": 17,
     "metadata": {},
     "output_type": "execute_result"
    }
   ],
   "source": [
    "idx_to_drop.extend(df[(df['answer'].str.contains(r'\\?')) & (df['a_length'] <= 62)].index.tolist())\n",
    "len(idx_to_drop)"
   ]
  },
  {
   "cell_type": "code",
   "execution_count": 23,
   "id": "ca669e8e",
   "metadata": {},
   "outputs": [
    {
     "data": {
      "text/html": [
       "<div>\n",
       "<style scoped>\n",
       "    .dataframe tbody tr th:only-of-type {\n",
       "        vertical-align: middle;\n",
       "    }\n",
       "\n",
       "    .dataframe tbody tr th {\n",
       "        vertical-align: top;\n",
       "    }\n",
       "\n",
       "    .dataframe thead th {\n",
       "        text-align: right;\n",
       "    }\n",
       "</style>\n",
       "<table border=\"1\" class=\"dataframe\">\n",
       "  <thead>\n",
       "    <tr style=\"text-align: right;\">\n",
       "      <th></th>\n",
       "      <th>question</th>\n",
       "      <th>answer</th>\n",
       "      <th>q_length</th>\n",
       "      <th>a_length</th>\n",
       "    </tr>\n",
       "  </thead>\n",
       "  <tbody>\n",
       "    <tr>\n",
       "      <th>7977</th>\n",
       "      <td>How to prevent Acanthamoeba - Granulomatous Amebic Encephalitis (GAE); Keratitis ?</td>\n",
       "      <td>Topics</td>\n",
       "      <td>82</td>\n",
       "      <td>6</td>\n",
       "    </tr>\n",
       "    <tr>\n",
       "      <th>8001</th>\n",
       "      <td>What is (are) Parasites - African Trypanosomiasis (also known as Sleeping Sickness) ?</td>\n",
       "      <td>Frequently Asked Queestions (FAQs)</td>\n",
       "      <td>85</td>\n",
       "      <td>34</td>\n",
       "    </tr>\n",
       "    <tr>\n",
       "      <th>8041</th>\n",
       "      <td>What is (are) Parasites - Paragonimiasis (also known as Paragonimus Infection) ?</td>\n",
       "      <td>Frequently Asked Queestions (FAQs)</td>\n",
       "      <td>80</td>\n",
       "      <td>34</td>\n",
       "    </tr>\n",
       "  </tbody>\n",
       "</table>\n",
       "</div>"
      ],
      "text/plain": [
       "                                                                                   question                              answer  q_length  a_length\n",
       "7977     How to prevent Acanthamoeba - Granulomatous Amebic Encephalitis (GAE); Keratitis ?                              Topics        82         6\n",
       "8001  What is (are) Parasites - African Trypanosomiasis (also known as Sleeping Sickness) ?  Frequently Asked Queestions (FAQs)        85        34\n",
       "8041       What is (are) Parasites - Paragonimiasis (also known as Paragonimus Infection) ?  Frequently Asked Queestions (FAQs)        80        34"
      ]
     },
     "execution_count": 23,
     "metadata": {},
     "output_type": "execute_result"
    }
   ],
   "source": [
    "invalid_answers = ['Topics', 'Frequently Asked Queestions (FAQs)']\n",
    "a = df['answer'].str.strip().str.replace(r'\\s+', ' ', regex=True)\n",
    "df[[i in invalid_answers for i in a]]"
   ]
  },
  {
   "cell_type": "code",
   "execution_count": 24,
   "id": "c24d0d78",
   "metadata": {},
   "outputs": [
    {
     "data": {
      "text/plain": [
       "413"
      ]
     },
     "execution_count": 24,
     "metadata": {},
     "output_type": "execute_result"
    }
   ],
   "source": [
    "idx_to_drop.extend(df[[i in invalid_answers for i in a]].index.tolist())\n",
    "len(idx_to_drop)"
   ]
  },
  {
   "cell_type": "code",
   "execution_count": 25,
   "id": "172d9929",
   "metadata": {},
   "outputs": [],
   "source": [
    "clean_df = df[~df.index.isin(idx_to_drop)]\n",
    "clean_df.to_csv('data/clean_df', index=False)\n",
    "# df.shape[0] - clean_df.shape[0]"
   ]
  },
  {
   "cell_type": "markdown",
   "id": "7154631c",
   "metadata": {},
   "source": [
    "# q and a pair count"
   ]
  },
  {
   "cell_type": "code",
   "execution_count": 26,
   "id": "ace6e94a",
   "metadata": {},
   "outputs": [
    {
     "data": {
      "image/png": "[encoded data removed]",
      "text/plain": [
       "<Figure size 640x480 with 1 Axes>"
      ]
     },
     "metadata": {},
     "output_type": "display_data"
    }
   ],
   "source": [
    "size_df = clean_df.groupby('question').size().rename('q_counts').reset_index()\n",
    "sns.histplot(size_df)\n",
    "plt.yscale('log')"
   ]
  },
  {
   "cell_type": "code",
   "execution_count": 27,
   "id": "2a263b0a",
   "metadata": {},
   "outputs": [
    {
     "data": {
      "text/html": [
       "<div>\n",
       "<style scoped>\n",
       "    .dataframe tbody tr th:only-of-type {\n",
       "        vertical-align: middle;\n",
       "    }\n",
       "\n",
       "    .dataframe tbody tr th {\n",
       "        vertical-align: top;\n",
       "    }\n",
       "\n",
       "    .dataframe thead th {\n",
       "        text-align: right;\n",
       "    }\n",
       "</style>\n",
       "<table border=\"1\" class=\"dataframe\">\n",
       "  <thead>\n",
       "    <tr style=\"text-align: right;\">\n",
       "      <th></th>\n",
       "      <th>question</th>\n",
       "      <th>answer</th>\n",
       "      <th>q_length</th>\n",
       "      <th>a_length</th>\n",
       "      <th>q_counts</th>\n",
       "    </tr>\n",
       "  </thead>\n",
       "  <tbody>\n",
       "    <tr>\n",
       "      <th>0</th>\n",
       "      <td>What is (are) Glaucoma ?</td>\n",
       "      <td>Glaucoma is a group of diseases that can damage the eye's optic nerve and result in vision loss and blindness. The most common form of the disease is open-angle glaucoma. With early treatment, you...</td>\n",
       "      <td>24</td>\n",
       "      <td>632</td>\n",
       "      <td>5</td>\n",
       "    </tr>\n",
       "    <tr>\n",
       "      <th>1</th>\n",
       "      <td>What is (are) Glaucoma ?</td>\n",
       "      <td>The optic nerve is a bundle of more than 1 million nerve fibers. It connects the retina to the brain.</td>\n",
       "      <td>24</td>\n",
       "      <td>101</td>\n",
       "      <td>5</td>\n",
       "    </tr>\n",
       "    <tr>\n",
       "      <th>2</th>\n",
       "      <td>What is (are) Glaucoma ?</td>\n",
       "      <td>Open-angle glaucoma is the most common form of glaucoma. In the normal eye, the clear fluid leaves the anterior chamber at the open angle where the cornea and iris meet. When the fluid reaches the...</td>\n",
       "      <td>24</td>\n",
       "      <td>508</td>\n",
       "      <td>5</td>\n",
       "    </tr>\n",
       "    <tr>\n",
       "      <th>3</th>\n",
       "      <td>Who is at risk for Glaucoma? ?</td>\n",
       "      <td>Anyone can develop glaucoma. Some people are at higher risk than others. They include - African-Americans over age 40  - everyone over age 60, especially Hispanics/Latinos  - people with a family ...</td>\n",
       "      <td>30</td>\n",
       "      <td>493</td>\n",
       "      <td>2</td>\n",
       "    </tr>\n",
       "    <tr>\n",
       "      <th>8</th>\n",
       "      <td>Who is at risk for Glaucoma? ?</td>\n",
       "      <td>Encourage them to have a comprehensive dilated eye exam at least once every two years. Remember -- lowering eye pressure in glaucoma's early stages slows progression of the disease and helps save ...</td>\n",
       "      <td>30</td>\n",
       "      <td>250</td>\n",
       "      <td>2</td>\n",
       "    </tr>\n",
       "    <tr>\n",
       "      <th>...</th>\n",
       "      <td>...</td>\n",
       "      <td>...</td>\n",
       "      <td>...</td>\n",
       "      <td>...</td>\n",
       "      <td>...</td>\n",
       "    </tr>\n",
       "    <tr>\n",
       "      <th>16079</th>\n",
       "      <td>What is (are) Diabetic Neuropathies: The Nerve Damage of Diabetes ?</td>\n",
       "      <td>Diabetic neuropathy can be classified as peripheral, autonomic, proximal, or focal. Each affects different parts of the body in various ways.\\n                \\n- Peripheral neuropathy, the most c...</td>\n",
       "      <td>67</td>\n",
       "      <td>1479</td>\n",
       "      <td>6</td>\n",
       "    </tr>\n",
       "    <tr>\n",
       "      <th>16080</th>\n",
       "      <td>What is (are) Diabetic Neuropathies: The Nerve Damage of Diabetes ?</td>\n",
       "      <td>Peripheral neuropathy, also called distal symmetric neuropathy or sensorimotor neuropathy, is nerve damage in the arms and legs. Feet and legs are likely to be affected before hands and arms. Many...</td>\n",
       "      <td>67</td>\n",
       "      <td>1190</td>\n",
       "      <td>6</td>\n",
       "    </tr>\n",
       "    <tr>\n",
       "      <th>16081</th>\n",
       "      <td>What is (are) Diabetic Neuropathies: The Nerve Damage of Diabetes ?</td>\n",
       "      <td>Autonomic neuropathy affects the nerves that control the heart, regulate blood pressure, and control blood glucose levels. Autonomic neuropathy also affects other internal organs, causing problems...</td>\n",
       "      <td>67</td>\n",
       "      <td>3443</td>\n",
       "      <td>6</td>\n",
       "    </tr>\n",
       "    <tr>\n",
       "      <th>16082</th>\n",
       "      <td>What is (are) Diabetic Neuropathies: The Nerve Damage of Diabetes ?</td>\n",
       "      <td>Proximal neuropathy, sometimes called lumbosacral plexus neuropathy, femoral neuropathy, or diabetic amyotrophy, starts with pain in the thighs, hips, buttocks, or legs, usually on one side of the...</td>\n",
       "      <td>67</td>\n",
       "      <td>561</td>\n",
       "      <td>6</td>\n",
       "    </tr>\n",
       "    <tr>\n",
       "      <th>16083</th>\n",
       "      <td>What is (are) Diabetic Neuropathies: The Nerve Damage of Diabetes ?</td>\n",
       "      <td>Focal neuropathy appears suddenly and affects specific nerves, most often in the head, torso, or leg. Focal neuropathy may cause\\n                \\n- inability to focus the eye  - double vision  -...</td>\n",
       "      <td>67</td>\n",
       "      <td>1120</td>\n",
       "      <td>6</td>\n",
       "    </tr>\n",
       "  </tbody>\n",
       "</table>\n",
       "<p>2221 rows × 5 columns</p>\n",
       "</div>"
      ],
      "text/plain": [
       "                                                                  question                                                                                                                                                                                                   answer  q_length  a_length  q_counts\n",
       "0                                                 What is (are) Glaucoma ?  Glaucoma is a group of diseases that can damage the eye's optic nerve and result in vision loss and blindness. The most common form of the disease is open-angle glaucoma. With early treatment, you...        24       632         5\n",
       "1                                                 What is (are) Glaucoma ?                                                                                                    The optic nerve is a bundle of more than 1 million nerve fibers. It connects the retina to the brain.        24       101         5\n",
       "2                                                 What is (are) Glaucoma ?  Open-angle glaucoma is the most common form of glaucoma. In the normal eye, the clear fluid leaves the anterior chamber at the open angle where the cornea and iris meet. When the fluid reaches the...        24       508         5\n",
       "3                                           Who is at risk for Glaucoma? ?  Anyone can develop glaucoma. Some people are at higher risk than others. They include - African-Americans over age 40  - everyone over age 60, especially Hispanics/Latinos  - people with a family ...        30       493         2\n",
       "8                                           Who is at risk for Glaucoma? ?  Encourage them to have a comprehensive dilated eye exam at least once every two years. Remember -- lowering eye pressure in glaucoma's early stages slows progression of the disease and helps save ...        30       250         2\n",
       "...                                                                    ...                                                                                                                                                                                                      ...       ...       ...       ...\n",
       "16079  What is (are) Diabetic Neuropathies: The Nerve Damage of Diabetes ?  Diabetic neuropathy can be classified as peripheral, autonomic, proximal, or focal. Each affects different parts of the body in various ways.\\n                \\n- Peripheral neuropathy, the most c...        67      1479         6\n",
       "16080  What is (are) Diabetic Neuropathies: The Nerve Damage of Diabetes ?  Peripheral neuropathy, also called distal symmetric neuropathy or sensorimotor neuropathy, is nerve damage in the arms and legs. Feet and legs are likely to be affected before hands and arms. Many...        67      1190         6\n",
       "16081  What is (are) Diabetic Neuropathies: The Nerve Damage of Diabetes ?  Autonomic neuropathy affects the nerves that control the heart, regulate blood pressure, and control blood glucose levels. Autonomic neuropathy also affects other internal organs, causing problems...        67      3443         6\n",
       "16082  What is (are) Diabetic Neuropathies: The Nerve Damage of Diabetes ?  Proximal neuropathy, sometimes called lumbosacral plexus neuropathy, femoral neuropathy, or diabetic amyotrophy, starts with pain in the thighs, hips, buttocks, or legs, usually on one side of the...        67       561         6\n",
       "16083  What is (are) Diabetic Neuropathies: The Nerve Damage of Diabetes ?  Focal neuropathy appears suddenly and affects specific nerves, most often in the head, torso, or leg. Focal neuropathy may cause\\n                \\n- inability to focus the eye  - double vision  -...        67      1120         6\n",
       "\n",
       "[2221 rows x 5 columns]"
      ]
     },
     "execution_count": 27,
     "metadata": {},
     "output_type": "execute_result"
    }
   ],
   "source": [
    "clean_df = df.merge(size_df, left_on='question', right_on='question')\n",
    "clean_df[clean_df['q_counts'] > 1]"
   ]
  },
  {
   "cell_type": "code",
   "execution_count": 28,
   "id": "b2b205af",
   "metadata": {},
   "outputs": [
    {
     "data": {
      "text/plain": [
       "(np.float64(50.70645281611339), np.float64(1149.8152430685068))"
      ]
     },
     "execution_count": 28,
     "metadata": {},
     "output_type": "execute_result"
    }
   ],
   "source": [
    "clean_df['q_length'].mean(), clean_df['a_length'].mean()"
   ]
  },
  {
   "cell_type": "code",
   "execution_count": null,
   "id": "14c1c536",
   "metadata": {},
   "outputs": [],
   "source": []
  }
 ],
 "metadata": {
  "kernelspec": {
   "display_name": ".venv",
   "language": "python",
   "name": "python3"
  },
  "language_info": {
   "codemirror_mode": {
    "name": "ipython",
    "version": 3
   },
   "file_extension": ".py",
   "mimetype": "text/x-python",
   "name": "python",
   "nbconvert_exporter": "python",
   "pygments_lexer": "ipython3",
   "version": "3.10.12"
  }
 },
 "nbformat": 4,
 "nbformat_minor": 5
}
